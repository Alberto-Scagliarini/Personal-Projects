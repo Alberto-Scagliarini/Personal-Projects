{
 "cells": [
  {
   "cell_type": "markdown",
   "metadata": {},
   "source": [
    "# Quesiti e Tasks Statistica e Machine Learning\n",
    "\n",
    "-> [Scaica il Database](https://octospa-my.sharepoint.com/personal/a_sauro_octotelematics_com/_layouts/15/onedrive.aspx?id=%2Fpersonal%2Fa%5Fsauro%5Foctotelematics%5Fcom%2FDocuments%2Fyellow%5Ftripdata%5F2019%2D04%2Ecsv%2Ezip&parent=%2Fpersonal%2Fa%5Fsauro%5Foctotelematics%5Fcom%2FDocuments&ga=1)\n",
    "\n",
    "**INDICE:**\n",
    "1. Database \"tripdata\"\n",
    "2. Quesito A\n",
    "3. Quesito A1\n",
    "4. Quesito B\n",
    "___"
   ]
  },
  {
   "cell_type": "code",
   "execution_count": 1,
   "metadata": {},
   "outputs": [],
   "source": [
    "import pandas as pd\n",
    "import numpy as np\n",
    "from sklearn.model_selection import train_test_split\n",
    "from sklearn.linear_model import LinearRegression\n",
    "from sklearn.metrics import mean_squared_error\n",
    "import pickle"
   ]
  },
  {
   "cell_type": "code",
   "execution_count": 2,
   "metadata": {},
   "outputs": [],
   "source": [
    "df_tripdata = pd.read_csv(r\"yellow_tripdata_2019-04.csv\")"
   ]
  },
  {
   "cell_type": "markdown",
   "metadata": {},
   "source": [
    "## 1. Database \"tripdata\"\n",
    "___\n",
    "In questa fase iniziale, mi occupo della preparazione del database per le analisi successive. Per prima cosa, verifico il numero di colonne e righe presenti. "
   ]
  },
  {
   "cell_type": "code",
   "execution_count": 3,
   "metadata": {},
   "outputs": [],
   "source": [
    "pd.set_option('display.max_columns', None)\n",
    "pd.set_option('display.width', 1000) "
   ]
  },
  {
   "cell_type": "code",
   "execution_count": 4,
   "metadata": {},
   "outputs": [
    {
     "data": {
      "text/plain": [
       "(7433139, 18)"
      ]
     },
     "execution_count": 4,
     "metadata": {},
     "output_type": "execute_result"
    }
   ],
   "source": [
    "df_tripdata.shape"
   ]
  },
  {
   "cell_type": "code",
   "execution_count": 5,
   "metadata": {},
   "outputs": [
    {
     "data": {
      "text/plain": [
       "Index(['VendorID', 'tpep_pickup_datetime', 'tpep_dropoff_datetime', 'passenger_count', 'trip_distance', 'RatecodeID', 'store_and_fwd_flag', 'PULocationID', 'DOLocationID', 'payment_type', 'fare_amount', 'extra', 'mta_tax', 'tip_amount', 'tolls_amount', 'improvement_surcharge', 'total_amount', 'congestion_surcharge'], dtype='object')"
      ]
     },
     "execution_count": 5,
     "metadata": {},
     "output_type": "execute_result"
    }
   ],
   "source": [
    "df_tripdata.columns"
   ]
  },
  {
   "cell_type": "markdown",
   "metadata": {},
   "source": [
    "Controllo la presenza dei valori nulli ed elimino le colonne che non servono all'analisi."
   ]
  },
  {
   "cell_type": "code",
   "execution_count": 6,
   "metadata": {},
   "outputs": [
    {
     "name": "stdout",
     "output_type": "stream",
     "text": [
      "NON SONO PRESENTI VALORI NULLI\n"
     ]
    }
   ],
   "source": [
    "valori_null = df_tripdata.isnull().sum()\n",
    "null_columns = valori_null[valori_null > 0]\n",
    "\n",
    "if null_columns.empty:\n",
    "    print(\"NON SONO PRESENTI VALORI NULLI\")\n",
    "else:\n",
    "    print(f\"COLONNE CON VALORI NULLI: \\n{null_columns}\")"
   ]
  },
  {
   "cell_type": "code",
   "execution_count": 7,
   "metadata": {},
   "outputs": [],
   "source": [
    "df_tripdata.drop(columns=['tpep_pickup_datetime', 'tpep_dropoff_datetime', 'RatecodeID', 'store_and_fwd_flag', 'PULocationID',\n",
    "                          'DOLocationID', 'extra', 'mta_tax', 'tolls_amount', 'improvement_surcharge', 'congestion_surcharge'],inplace=True)"
   ]
  },
  {
   "cell_type": "code",
   "execution_count": 8,
   "metadata": {},
   "outputs": [
    {
     "data": {
      "text/plain": [
       "Index(['VendorID', 'passenger_count', 'trip_distance', 'payment_type', 'fare_amount', 'tip_amount', 'total_amount'], dtype='object')"
      ]
     },
     "execution_count": 8,
     "metadata": {},
     "output_type": "execute_result"
    }
   ],
   "source": [
    "df_tripdata.columns"
   ]
  },
  {
   "cell_type": "code",
   "execution_count": 9,
   "metadata": {},
   "outputs": [
    {
     "data": {
      "text/plain": [
       "(7433139, 7)"
      ]
     },
     "execution_count": 9,
     "metadata": {},
     "output_type": "execute_result"
    }
   ],
   "source": [
    "df_tripdata.shape"
   ]
  },
  {
   "cell_type": "markdown",
   "metadata": {},
   "source": [
    "## 2. Quesito A\n",
    "\n",
    "Calcolare sull’intero dataset i percentili 5, 50 e 95 (q05, q50, q95) sui valori del dataset: \n",
    "**'fare_amount'**,**'tip_amount'** e **'total_amount'** ; suddivisi secondo i campi **'VendorID'**,**'passenger_count'** e **'payment_type'**.\n",
    "\n",
    "L’output di calcolo dovrà essere un dataFrame da esportare in formato CSV \n",
    "organizzato con: \n",
    "\n",
    "Colonne: nome campo (sul quale è calcolato il percentile) + “_p_” + soglia percentile.\n",
    "\n",
    "Righe (index): nome campo di reggruppamento + ”_” + valore del gruppo sul quale è eseguito il calcolo dei percentili.\n",
    "___"
   ]
  },
  {
   "cell_type": "markdown",
   "metadata": {},
   "source": [
    "Definisco i campi su cui calcolare i percentili, poi con la funzione calcolo i percentili."
   ]
  },
  {
   "cell_type": "code",
   "execution_count": 10,
   "metadata": {},
   "outputs": [],
   "source": [
    "fields = ['fare_amount', 'tip_amount', 'total_amount']\n",
    "group_fields = ['VendorID', 'passenger_count', 'payment_type']\n",
    "percentiles = [5, 50, 95]"
   ]
  },
  {
   "cell_type": "code",
   "execution_count": 11,
   "metadata": {},
   "outputs": [],
   "source": [
    "def calculate_percentiles(df_tripdata, fields, group_fields, percentiles):\n",
    "    results = []\n",
    "\n",
    "    for group_field in group_fields:\n",
    "        grouped = df_tripdata.groupby(group_field)\n",
    "        for group, data in grouped:\n",
    "            result_row = {'group': f\"{group_field}_{group}\"}\n",
    "            for field in fields:\n",
    "                for percentile in percentiles:\n",
    "                    col_name = f\"{field}_p_{percentile}\"\n",
    "                    result_row[col_name] = data[field].quantile(percentile / 100)\n",
    "            results.append(result_row)\n",
    "    return pd.DataFrame(results)\n",
    "\n",
    "percentile_df = calculate_percentiles(df_tripdata, fields, group_fields, percentiles)"
   ]
  },
  {
   "cell_type": "markdown",
   "metadata": {},
   "source": [
    "## 3. Quesito A1\n",
    "\n",
    "Calcolare i percentili come riportati per il quesito A anche per il dataset suddiviso per **'trip_distance'** se >2.8 o <=2.8 e aggiungere i valori calcolati al dataFrame con le logiche riportare al quesito A\n",
    "___"
   ]
  },
  {
   "cell_type": "markdown",
   "metadata": {},
   "source": [
    "Suddivido per la colonna **'trip_distance'** raggruppati in:\n",
    "- maggiori di 2.8,\n",
    "- minori o uguali a 2.8.\n",
    "\n",
    "Calcolo i percentili, poi aggiungo l'output al dataframe."
   ]
  },
  {
   "cell_type": "code",
   "execution_count": 12,
   "metadata": {},
   "outputs": [],
   "source": [
    "def calculate_distance_percentiles(df_tripdata, fields, percentiles):\n",
    "    results = []\n",
    "\n",
    "    df_tripdata['distance_group'] = df_tripdata['trip_distance'].apply(lambda x: '>2.8' if x > 2.8 else '<=2.8')\n",
    "    grouped = df_tripdata.groupby('distance_group')\n",
    "\n",
    "    for group, data in grouped:\n",
    "        result_row = {'group': f\"trip_distance_{group}\"}\n",
    "        for field in fields:\n",
    "            for percentile in percentiles:\n",
    "                col_name = f\"{field}_p_{percentile}\"\n",
    "                result_row[col_name] = data[field].quantile(percentile / 100)\n",
    "        results.append(result_row)\n",
    "\n",
    "    return pd.DataFrame(results)\n",
    "\n",
    "trip_distance_percentile_df = calculate_distance_percentiles(df_tripdata, fields, percentiles)\n",
    "\n",
    "percentile_df = pd.concat([percentile_df, trip_distance_percentile_df], ignore_index=True)"
   ]
  },
  {
   "cell_type": "markdown",
   "metadata": {},
   "source": [
    "Creo una pabella pivot per visualizzare l'output."
   ]
  },
  {
   "cell_type": "code",
   "execution_count": 13,
   "metadata": {},
   "outputs": [
    {
     "data": {
      "text/html": [
       "<div>\n",
       "<style scoped>\n",
       "    .dataframe tbody tr th:only-of-type {\n",
       "        vertical-align: middle;\n",
       "    }\n",
       "\n",
       "    .dataframe tbody tr th {\n",
       "        vertical-align: top;\n",
       "    }\n",
       "\n",
       "    .dataframe thead th {\n",
       "        text-align: right;\n",
       "    }\n",
       "</style>\n",
       "<table border=\"1\" class=\"dataframe\">\n",
       "  <thead>\n",
       "    <tr style=\"text-align: right;\">\n",
       "      <th></th>\n",
       "      <th>fare_amount_p_5</th>\n",
       "      <th>fare_amount_p_50</th>\n",
       "      <th>fare_amount_p_95</th>\n",
       "      <th>tip_amount_p_5</th>\n",
       "      <th>tip_amount_p_50</th>\n",
       "      <th>tip_amount_p_95</th>\n",
       "      <th>total_amount_p_5</th>\n",
       "      <th>total_amount_p_50</th>\n",
       "      <th>total_amount_p_95</th>\n",
       "    </tr>\n",
       "    <tr>\n",
       "      <th>group</th>\n",
       "      <th></th>\n",
       "      <th></th>\n",
       "      <th></th>\n",
       "      <th></th>\n",
       "      <th></th>\n",
       "      <th></th>\n",
       "      <th></th>\n",
       "      <th></th>\n",
       "      <th></th>\n",
       "    </tr>\n",
       "  </thead>\n",
       "  <tbody>\n",
       "    <tr>\n",
       "      <th>VendorID_1</th>\n",
       "      <td>4.500</td>\n",
       "      <td>9.5</td>\n",
       "      <td>36.000</td>\n",
       "      <td>0.0</td>\n",
       "      <td>1.86</td>\n",
       "      <td>6.5500</td>\n",
       "      <td>8.300</td>\n",
       "      <td>14.75</td>\n",
       "      <td>48.300</td>\n",
       "    </tr>\n",
       "    <tr>\n",
       "      <th>VendorID_2</th>\n",
       "      <td>4.500</td>\n",
       "      <td>9.5</td>\n",
       "      <td>40.000</td>\n",
       "      <td>0.0</td>\n",
       "      <td>1.96</td>\n",
       "      <td>7.3600</td>\n",
       "      <td>8.300</td>\n",
       "      <td>14.76</td>\n",
       "      <td>52.700</td>\n",
       "    </tr>\n",
       "    <tr>\n",
       "      <th>VendorID_4</th>\n",
       "      <td>4.000</td>\n",
       "      <td>9.0</td>\n",
       "      <td>35.275</td>\n",
       "      <td>0.0</td>\n",
       "      <td>1.96</td>\n",
       "      <td>7.1175</td>\n",
       "      <td>8.300</td>\n",
       "      <td>14.75</td>\n",
       "      <td>48.650</td>\n",
       "    </tr>\n",
       "    <tr>\n",
       "      <th>passenger_count_0</th>\n",
       "      <td>4.000</td>\n",
       "      <td>9.0</td>\n",
       "      <td>37.500</td>\n",
       "      <td>0.0</td>\n",
       "      <td>1.85</td>\n",
       "      <td>6.6500</td>\n",
       "      <td>8.300</td>\n",
       "      <td>14.72</td>\n",
       "      <td>49.800</td>\n",
       "    </tr>\n",
       "    <tr>\n",
       "      <th>passenger_count_1</th>\n",
       "      <td>4.500</td>\n",
       "      <td>9.5</td>\n",
       "      <td>37.000</td>\n",
       "      <td>0.0</td>\n",
       "      <td>1.95</td>\n",
       "      <td>7.0000</td>\n",
       "      <td>8.300</td>\n",
       "      <td>14.75</td>\n",
       "      <td>49.900</td>\n",
       "    </tr>\n",
       "    <tr>\n",
       "      <th>passenger_count_2</th>\n",
       "      <td>4.500</td>\n",
       "      <td>9.5</td>\n",
       "      <td>42.000</td>\n",
       "      <td>0.0</td>\n",
       "      <td>1.86</td>\n",
       "      <td>7.2000</td>\n",
       "      <td>8.300</td>\n",
       "      <td>14.80</td>\n",
       "      <td>54.500</td>\n",
       "    </tr>\n",
       "    <tr>\n",
       "      <th>passenger_count_3</th>\n",
       "      <td>4.500</td>\n",
       "      <td>9.5</td>\n",
       "      <td>42.000</td>\n",
       "      <td>0.0</td>\n",
       "      <td>1.85</td>\n",
       "      <td>7.0000</td>\n",
       "      <td>8.300</td>\n",
       "      <td>14.80</td>\n",
       "      <td>54.537</td>\n",
       "    </tr>\n",
       "    <tr>\n",
       "      <th>passenger_count_4</th>\n",
       "      <td>4.500</td>\n",
       "      <td>10.0</td>\n",
       "      <td>50.000</td>\n",
       "      <td>0.0</td>\n",
       "      <td>1.58</td>\n",
       "      <td>6.9900</td>\n",
       "      <td>8.750</td>\n",
       "      <td>15.30</td>\n",
       "      <td>58.920</td>\n",
       "    </tr>\n",
       "    <tr>\n",
       "      <th>passenger_count_5</th>\n",
       "      <td>4.500</td>\n",
       "      <td>9.5</td>\n",
       "      <td>37.500</td>\n",
       "      <td>0.0</td>\n",
       "      <td>1.96</td>\n",
       "      <td>7.1800</td>\n",
       "      <td>8.300</td>\n",
       "      <td>14.76</td>\n",
       "      <td>50.520</td>\n",
       "    </tr>\n",
       "    <tr>\n",
       "      <th>passenger_count_6</th>\n",
       "      <td>4.500</td>\n",
       "      <td>9.5</td>\n",
       "      <td>38.000</td>\n",
       "      <td>0.0</td>\n",
       "      <td>1.96</td>\n",
       "      <td>7.2800</td>\n",
       "      <td>8.300</td>\n",
       "      <td>14.76</td>\n",
       "      <td>51.000</td>\n",
       "    </tr>\n",
       "    <tr>\n",
       "      <th>passenger_count_7</th>\n",
       "      <td>7.000</td>\n",
       "      <td>73.0</td>\n",
       "      <td>78.600</td>\n",
       "      <td>0.0</td>\n",
       "      <td>7.00</td>\n",
       "      <td>17.8400</td>\n",
       "      <td>9.360</td>\n",
       "      <td>82.30</td>\n",
       "      <td>107.040</td>\n",
       "    </tr>\n",
       "    <tr>\n",
       "      <th>passenger_count_8</th>\n",
       "      <td>7.150</td>\n",
       "      <td>80.0</td>\n",
       "      <td>85.000</td>\n",
       "      <td>0.0</td>\n",
       "      <td>2.07</td>\n",
       "      <td>20.5560</td>\n",
       "      <td>8.932</td>\n",
       "      <td>82.05</td>\n",
       "      <td>114.090</td>\n",
       "    </tr>\n",
       "    <tr>\n",
       "      <th>passenger_count_9</th>\n",
       "      <td>8.106</td>\n",
       "      <td>10.0</td>\n",
       "      <td>95.500</td>\n",
       "      <td>0.0</td>\n",
       "      <td>2.62</td>\n",
       "      <td>19.5600</td>\n",
       "      <td>9.178</td>\n",
       "      <td>15.99</td>\n",
       "      <td>117.360</td>\n",
       "    </tr>\n",
       "    <tr>\n",
       "      <th>payment_type_1</th>\n",
       "      <td>4.500</td>\n",
       "      <td>9.5</td>\n",
       "      <td>38.500</td>\n",
       "      <td>0.8</td>\n",
       "      <td>2.36</td>\n",
       "      <td>8.4500</td>\n",
       "      <td>9.300</td>\n",
       "      <td>15.36</td>\n",
       "      <td>53.300</td>\n",
       "    </tr>\n",
       "    <tr>\n",
       "      <th>payment_type_2</th>\n",
       "      <td>4.000</td>\n",
       "      <td>9.0</td>\n",
       "      <td>37.000</td>\n",
       "      <td>0.0</td>\n",
       "      <td>0.00</td>\n",
       "      <td>0.0000</td>\n",
       "      <td>7.300</td>\n",
       "      <td>12.30</td>\n",
       "      <td>41.920</td>\n",
       "    </tr>\n",
       "    <tr>\n",
       "      <th>payment_type_3</th>\n",
       "      <td>-5.000</td>\n",
       "      <td>6.5</td>\n",
       "      <td>49.925</td>\n",
       "      <td>0.0</td>\n",
       "      <td>0.00</td>\n",
       "      <td>0.0000</td>\n",
       "      <td>-8.300</td>\n",
       "      <td>9.80</td>\n",
       "      <td>52.800</td>\n",
       "    </tr>\n",
       "    <tr>\n",
       "      <th>payment_type_4</th>\n",
       "      <td>-18.000</td>\n",
       "      <td>4.5</td>\n",
       "      <td>38.000</td>\n",
       "      <td>0.0</td>\n",
       "      <td>0.00</td>\n",
       "      <td>0.0000</td>\n",
       "      <td>-20.800</td>\n",
       "      <td>7.80</td>\n",
       "      <td>42.800</td>\n",
       "    </tr>\n",
       "    <tr>\n",
       "      <th>trip_distance_&lt;=2.8</th>\n",
       "      <td>4.000</td>\n",
       "      <td>7.5</td>\n",
       "      <td>14.000</td>\n",
       "      <td>0.0</td>\n",
       "      <td>1.70</td>\n",
       "      <td>3.5400</td>\n",
       "      <td>7.800</td>\n",
       "      <td>12.80</td>\n",
       "      <td>20.160</td>\n",
       "    </tr>\n",
       "    <tr>\n",
       "      <th>trip_distance_&gt;2.8</th>\n",
       "      <td>12.000</td>\n",
       "      <td>20.5</td>\n",
       "      <td>52.000</td>\n",
       "      <td>0.0</td>\n",
       "      <td>3.55</td>\n",
       "      <td>12.2500</td>\n",
       "      <td>17.160</td>\n",
       "      <td>27.36</td>\n",
       "      <td>73.670</td>\n",
       "    </tr>\n",
       "  </tbody>\n",
       "</table>\n",
       "</div>"
      ],
      "text/plain": [
       "                     fare_amount_p_5  fare_amount_p_50  fare_amount_p_95  tip_amount_p_5  tip_amount_p_50  tip_amount_p_95  total_amount_p_5  total_amount_p_50  total_amount_p_95\n",
       "group                                                                                                                                                                             \n",
       "VendorID_1                     4.500               9.5            36.000             0.0             1.86           6.5500             8.300              14.75             48.300\n",
       "VendorID_2                     4.500               9.5            40.000             0.0             1.96           7.3600             8.300              14.76             52.700\n",
       "VendorID_4                     4.000               9.0            35.275             0.0             1.96           7.1175             8.300              14.75             48.650\n",
       "passenger_count_0              4.000               9.0            37.500             0.0             1.85           6.6500             8.300              14.72             49.800\n",
       "passenger_count_1              4.500               9.5            37.000             0.0             1.95           7.0000             8.300              14.75             49.900\n",
       "passenger_count_2              4.500               9.5            42.000             0.0             1.86           7.2000             8.300              14.80             54.500\n",
       "passenger_count_3              4.500               9.5            42.000             0.0             1.85           7.0000             8.300              14.80             54.537\n",
       "passenger_count_4              4.500              10.0            50.000             0.0             1.58           6.9900             8.750              15.30             58.920\n",
       "passenger_count_5              4.500               9.5            37.500             0.0             1.96           7.1800             8.300              14.76             50.520\n",
       "passenger_count_6              4.500               9.5            38.000             0.0             1.96           7.2800             8.300              14.76             51.000\n",
       "passenger_count_7              7.000              73.0            78.600             0.0             7.00          17.8400             9.360              82.30            107.040\n",
       "passenger_count_8              7.150              80.0            85.000             0.0             2.07          20.5560             8.932              82.05            114.090\n",
       "passenger_count_9              8.106              10.0            95.500             0.0             2.62          19.5600             9.178              15.99            117.360\n",
       "payment_type_1                 4.500               9.5            38.500             0.8             2.36           8.4500             9.300              15.36             53.300\n",
       "payment_type_2                 4.000               9.0            37.000             0.0             0.00           0.0000             7.300              12.30             41.920\n",
       "payment_type_3                -5.000               6.5            49.925             0.0             0.00           0.0000            -8.300               9.80             52.800\n",
       "payment_type_4               -18.000               4.5            38.000             0.0             0.00           0.0000           -20.800               7.80             42.800\n",
       "trip_distance_<=2.8            4.000               7.5            14.000             0.0             1.70           3.5400             7.800              12.80             20.160\n",
       "trip_distance_>2.8            12.000              20.5            52.000             0.0             3.55          12.2500            17.160              27.36             73.670"
      ]
     },
     "execution_count": 13,
     "metadata": {},
     "output_type": "execute_result"
    }
   ],
   "source": [
    "pivot_table = pd.pivot_table(\n",
    "    percentile_df,\n",
    "    index='group',\n",
    "    aggfunc='first')\n",
    "\n",
    "pivot_table"
   ]
  },
  {
   "cell_type": "markdown",
   "metadata": {},
   "source": [
    "Esportazione del dataframe in csv"
   ]
  },
  {
   "cell_type": "code",
   "execution_count": 14,
   "metadata": {},
   "outputs": [],
   "source": [
    "pivot_table.to_csv('report.csv')"
   ]
  },
  {
   "cell_type": "markdown",
   "metadata": {},
   "source": [
    "## 4. Quesito B\n",
    "\n",
    "Generare un modello di ML per la stima del “total_amount” in funzione delle variabili (in input al modello): **'VendorID'**, **'passenger_count'**, **'payment_type'**, **'trip_distance'**.\n",
    "\n",
    "È possibile definire autonomamente la metodologia e il processo di selezione e split del dataset di riferimento per allenamento, test e verifica del modello (k-f, random, train-test-valid).\n",
    "\n",
    "*Per l’ottimizzazione del modello si consiglia di calcolare il RMSE sul parziale dataset di test selezionato.*\n",
    "___"
   ]
  },
  {
   "cell_type": "markdown",
   "metadata": {},
   "source": [
    "Seleziono delle variabili indipendenti e dipendenti."
   ]
  },
  {
   "cell_type": "code",
   "execution_count": 15,
   "metadata": {},
   "outputs": [],
   "source": [
    "X = df_tripdata[['VendorID', 'passenger_count', 'payment_type', 'trip_distance']]\n",
    "y = df_tripdata['total_amount']"
   ]
  },
  {
   "cell_type": "markdown",
   "metadata": {},
   "source": [
    "Codifico le variabili categoriche se necessario."
   ]
  },
  {
   "cell_type": "code",
   "execution_count": 16,
   "metadata": {},
   "outputs": [],
   "source": [
    "X = pd.get_dummies(X, columns=['VendorID', 'payment_type'], drop_first=True)"
   ]
  },
  {
   "cell_type": "markdown",
   "metadata": {},
   "source": [
    "Divido il dataset in training, validation e test set:\n",
    "- Training set (60%): Usato per allenare il modello.\n",
    "- Validation set (20%): Usato per valutare e ottimizzare il modello durante lo sviluppo.\n",
    "- Test set (20%): Usato per una valutazione finale e imparziale del modello."
   ]
  },
  {
   "cell_type": "code",
   "execution_count": 17,
   "metadata": {},
   "outputs": [],
   "source": [
    "X_train, X_temp, y_train, y_temp = train_test_split(X, y, test_size=0.4, random_state=42)\n",
    "X_val, X_test, y_val, y_test = train_test_split(X_temp, y_temp, test_size=0.5, random_state=42)"
   ]
  },
  {
   "cell_type": "markdown",
   "metadata": {},
   "source": [
    "Inizializzazione e allenamento del modello."
   ]
  },
  {
   "cell_type": "code",
   "execution_count": 18,
   "metadata": {},
   "outputs": [
    {
     "name": "stdout",
     "output_type": "stream",
     "text": [
      "Coefficients: [ 8.15007244e-03  3.30158923e+00 -1.55716015e-01  1.61995372e-01\n",
      " -3.44121199e+00 -6.78108901e+00 -1.20991707e+01]\n"
     ]
    }
   ],
   "source": [
    "model = LinearRegression()\n",
    "model.fit(X_train, y_train)\n",
    "\n",
    "print(\"Coefficients:\", model.coef_)"
   ]
  },
  {
   "cell_type": "markdown",
   "metadata": {},
   "source": [
    " Valutzione dell'importanza relativa delle feature. \n",
    " \n",
    " *Coefficienti più alti in valore assoluto indicano maggiore impatto sulla predizione.*"
   ]
  },
  {
   "cell_type": "code",
   "execution_count": 19,
   "metadata": {},
   "outputs": [
    {
     "name": "stdout",
     "output_type": "stream",
     "text": [
      "Feature Importance: \n",
      "           Feature  Coefficient\n",
      "0  passenger_count     0.008150\n",
      "1    trip_distance     3.301589\n",
      "2       VendorID_2    -0.155716\n",
      "3       VendorID_4     0.161995\n",
      "4   payment_type_2    -3.441212\n",
      "5   payment_type_3    -6.781089\n",
      "6   payment_type_4   -12.099171\n"
     ]
    }
   ],
   "source": [
    "feature_importance = pd.DataFrame({\n",
    "    'Feature': X_train.columns,\n",
    "    'Coefficient': model.coef_})\n",
    "\n",
    "print(f\"Feature Importance: \\n{feature_importance}\")"
   ]
  },
  {
   "cell_type": "markdown",
   "metadata": {},
   "source": [
    "RMSE (Root Mean Square Error) sul test set"
   ]
  },
  {
   "cell_type": "code",
   "execution_count": 20,
   "metadata": {},
   "outputs": [
    {
     "name": "stdout",
     "output_type": "stream",
     "text": [
      "Test RMSE: 10.1766235932388\n"
     ]
    }
   ],
   "source": [
    "y_test_pred = model.predict(X_test)\n",
    "rmse_test = np.sqrt(mean_squared_error(y_test, y_test_pred))\n",
    "print(f\"Test RMSE: {rmse_test}\")"
   ]
  },
  {
   "cell_type": "markdown",
   "metadata": {},
   "source": [
    "Esportazione del modello"
   ]
  },
  {
   "cell_type": "code",
   "execution_count": 21,
   "metadata": {},
   "outputs": [],
   "source": [
    "with open('ml.pkl', 'wb') as f: pickle.dump(model, f)"
   ]
  },
  {
   "cell_type": "markdown",
   "metadata": {},
   "source": [
    "Esportazione del codice in file *.txt*"
   ]
  },
  {
   "cell_type": "code",
   "execution_count": null,
   "metadata": {},
   "outputs": [],
   "source": [
    "import nbformat\n",
    "\n",
    "with open(\"Progetto Octo.ipynb\", \"r\", encoding=\"utf-8\") as notebook_file:\n",
    "    notebook_content = nbformat.read(notebook_file, as_version=4)\n",
    "\n",
    "notebook_text = []\n",
    "for cell in notebook_content['cells']:\n",
    "    if cell['cell_type'] == 'markdown':\n",
    "        notebook_text.append(f\"# {cell['source']}\\n\")\n",
    "    elif cell['cell_type'] == 'code':\n",
    "        notebook_text.append(\"python\\n\")\n",
    "        notebook_text.append(cell['source'])\n",
    "        notebook_text.append(\"\\n\\n\")\n",
    "\n",
    "with open(\"code.txt\", \"w\", encoding=\"utf-8\") as text_file:\n",
    "    text_file.write(\"\\n\".join(notebook_text))"
   ]
  }
 ],
 "metadata": {
  "kernelspec": {
   "display_name": "ambiente",
   "language": "python",
   "name": "python3"
  },
  "language_info": {
   "codemirror_mode": {
    "name": "ipython",
    "version": 3
   },
   "file_extension": ".py",
   "mimetype": "text/x-python",
   "name": "python",
   "nbconvert_exporter": "python",
   "pygments_lexer": "ipython3",
   "version": "3.12.7"
  }
 },
 "nbformat": 4,
 "nbformat_minor": 2
}
