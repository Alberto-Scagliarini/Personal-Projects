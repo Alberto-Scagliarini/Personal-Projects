{
 "cells": [
  {
   "cell_type": "markdown",
   "metadata": {},
   "source": [
    "🚀 Automatizzare l'estrazione dei dati dai nomi dei file delle immagini 🖼️\n",
    "\n",
    "📋 Script Python per analizzare i nomi dei file delle immagini e ottenere informazioni strutturate come:\n",
    "\n",
    "- ID\n",
    "- Categoria (R=retro o F=fronte)\n",
    "- Tipo inquadratura (Plate o Context)\n",
    "- Data e ora di acquisizione\n",
    "\n",
    "💡 Caso d'uso:\n",
    "Questo approccio è ideale per progetti che coinvolgono grandi volumi di immagini con nomi strutturati, ad esempio nella computer vision o nella gestione di archivi fotografici.\n",
    "\n",
    "📊 Output:\n",
    "Un file CSV con dati pronti per essere analizzati o integrati in una dashboard."
   ]
  },
  {
   "cell_type": "code",
   "execution_count": null,
   "metadata": {},
   "outputs": [],
   "source": [
    "import os\n",
    "import pandas as pd"
   ]
  },
  {
   "cell_type": "code",
   "execution_count": null,
   "metadata": {},
   "outputs": [],
   "source": [
    "image_folder = \"IMMAGINI\""
   ]
  },
  {
   "cell_type": "code",
   "execution_count": null,
   "metadata": {},
   "outputs": [],
   "source": [
    "# Funzione per estrarre ID Foto, R o F, Plate o Context, Data e Ora dal nome del file\n",
    "def extract_data_from_filename(file_path):\n",
    "    filename = os.path.basename(file_path)\n",
    "    parts = filename.split(\"_\")\n",
    "    if len(parts) >= 5:\n",
    "        # Estrarre ID Foto, R o F, e Plate o Context\n",
    "        id_foto = parts[2]\n",
    "        r_or_f = parts[3]\n",
    "        plate_or_context = parts[4].split(\".\")[0]\n",
    "        # Estrarre Data e Ora dalla prima parte del nome del file\n",
    "        datetime_part = parts[0]\n",
    "        file_date = datetime_part[:8]  # Prima parte: AAAAMMGG\n",
    "        file_time = datetime_part[8:]  # Seconda parte: HHMMSS\n",
    "        # Formattare Data e Ora\n",
    "        file_date = f\"{file_date[:4]}-{file_date[4:6]}-{file_date[6:]}\"  # AAAA-MM-GG\n",
    "        file_time = f\"{file_time[:2]}:{file_time[2:4]}:{file_time[4:]}\"  # HH:MM:SS\n",
    "        return {\n",
    "            \"ID Foto\": id_foto,\n",
    "            \"R o F\": r_or_f,\n",
    "            \"Plate o Context\": plate_or_context,\n",
    "            \"Date\": file_date,\n",
    "            \"Time\": file_time\n",
    "        }\n",
    "    return {\n",
    "        \"ID Foto\": None,\n",
    "        \"R o F\": None,\n",
    "        \"Plate o Context\": None,\n",
    "        \"Date\": None,\n",
    "        \"Time\": None\n",
    "    }\n",
    "\n",
    "image_files = [os.path.join(image_folder, f) for f in os.listdir(image_folder) if f.lower().endswith(('.jpg', '.jpeg', '.png'))]\n",
    " \n",
    "data = [extract_data_from_filename(file_path) for file_path in image_files]\n",
    " \n",
    "df = pd.DataFrame(data)"
   ]
  },
  {
   "cell_type": "code",
   "execution_count": null,
   "metadata": {},
   "outputs": [],
   "source": [
    "output_excel = os.path.join(image_folder, \"output_foto_data_id_rf_plate.xlsx\")\n",
    "df.to_excel(output_excel, index=False)\n",
    " \n",
    "print(f\"Dati salvati in {output_excel}\")"
   ]
  }
 ],
 "metadata": {
  "language_info": {
   "name": "python"
  }
 },
 "nbformat": 4,
 "nbformat_minor": 2
}
