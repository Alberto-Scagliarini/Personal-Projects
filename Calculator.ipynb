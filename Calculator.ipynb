{
 "cells": [
  {
   "cell_type": "code",
   "execution_count": null,
   "metadata": {},
   "outputs": [],
   "source": [
    "from math import sqrt"
   ]
  },
  {
   "cell_type": "code",
   "execution_count": null,
   "metadata": {},
   "outputs": [],
   "source": [
    "messaggio_di_benvenuto=\"\"\"\n",
    "Benvenuti nella calcolatrice!\n",
    "\n",
    "Ecco a te l'elenco delle funzioni disponibili:\n",
    "\n",
    "1) Addizione\n",
    "2) Sottrazione\n",
    "3) Moltiplicazione\n",
    "4) Divisione\n",
    "5) Esponenziale\n",
    "6) Radice Qudrata\n",
    "E) Per Uscire\n",
    "\"\"\"\n",
    "print(messaggio_di_benvenuto)"
   ]
  },
  {
   "cell_type": "code",
   "execution_count": null,
   "metadata": {},
   "outputs": [],
   "source": [
    "scelta_errata = True\n",
    "while scelta_errata:\n",
    "\n",
    "    action = input('inserire la scelta: ')\n",
    "\n",
    "    if action == '1':\n",
    "        scelta_errata = False\n",
    "        print('Hai scelto Addizione')\n",
    "        primo_numero = float(input('Inserisci il primo numero: '))\n",
    "        secondo_numero = float(input('Inserisci il secondo numero: '))\n",
    "        print (primo_numero + secondo_numero)\n",
    "    elif action == '2':\n",
    "        scelta_errata = False\n",
    "        print('Hai scelto Sottrazione')\n",
    "        primo_numero = float(input('Inserisci il primo numero: '))\n",
    "        secondo_numero = float(input('Inserisci il secondo numero: '))\n",
    "        print(primo_numero - secondo_numero)\n",
    "    elif action == '3':\n",
    "        scelta_errata = False\n",
    "        print('Hai scelto Moltiplicazione')\n",
    "        primo_numero = float(input('Inserisci il primo numero: '))\n",
    "        secondo_numero = float(input('Inserisci il secondo numero: '))\n",
    "        print(primo_numero * secondo_numero)\n",
    "    elif action == '4':\n",
    "        scelta_errata = False\n",
    "        print('Hai scelto Divisione')\n",
    "        primo_numero = float(input('Inserisci il primo numero: '))\n",
    "        secondo_numero = float(input('Inserisci il secondo numero (diverso da 0): '))\n",
    "        while secondo_numero == 0:\n",
    "            print('Il secondo numero non può essere 0')\n",
    "            secondo_numero = float(input('Inserisci un numero diverso da 0: '))\n",
    "            print(primo_numero / secondo_numero)\n",
    "    elif action == '5':\n",
    "        scelta_errata = False\n",
    "        print('Hai scelto Esponenzile')\n",
    "        primo_numero = float(input('Inserisci il primo numero: '))\n",
    "        secondo_numero = float(input('Inserisci il secondo numero: '))\n",
    "        print(primo_numero ** secondo_numero)\n",
    "    elif action == '6':\n",
    "        scelta_errata = False\n",
    "        print('Hai scelto Radice Quadrata')\n",
    "        primo_numero = float(input('Inserisci il primo numero: '))\n",
    "        print(sqrt(primo_numero))\n",
    "    elif action == 'E':\n",
    "        scelta_errata = False\n",
    "        print('Hai scelto Uscita')"
   ]
  }
 ],
 "metadata": {
  "kernelspec": {
   "display_name": "ambiente",
   "language": "python",
   "name": "python3"
  },
  "language_info": {
   "codemirror_mode": {
    "name": "ipython",
    "version": 3
   },
   "file_extension": ".py",
   "mimetype": "text/x-python",
   "name": "python",
   "nbconvert_exporter": "python",
   "pygments_lexer": "ipython3",
   "version": "3.12.7"
  }
 },
 "nbformat": 4,
 "nbformat_minor": 2
}
